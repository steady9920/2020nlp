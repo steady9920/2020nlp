{
 "cells": [
  {
   "cell_type": "code",
   "execution_count": 2,
   "metadata": {},
   "outputs": [],
   "source": [
    "import pandas as pd\n",
    "import gensim\n",
    "from gensim import models\n",
    "from gensim.models import TfidfModel\n",
    "from gensim.corpora import Dictionary\n",
    "import numpy as np\n"
   ]
  },
  {
   "cell_type": "code",
   "execution_count": 3,
   "metadata": {
    "tags": []
   },
   "outputs": [],
   "source": [
    "train_data = pd.read_table('ratings_train.txt')\n",
    "\n",
    "train_data['document'].replace('', np.nan, inplace=True)\n",
    "train_data = train_data.dropna(how = 'any')\n",
    "train_corpus = []\n",
    "\n",
    "for index,row in train_data.iterrows():      \n",
    "    tokens = gensim.utils.simple_preprocess(row['document'])         \n",
    "    train_corpus.append(gensim.models.doc2vec.TaggedDocument(tokens,[\"{}_{}\".format(row['label'],row['id'])]))\n",
    "  "
   ]
  },
  {
   "cell_type": "code",
   "execution_count": 4,
   "metadata": {},
   "outputs": [],
   "source": [
    "model = gensim.models.doc2vec.Doc2Vec(vector_size=50, min_count=2, epochs=50)\n",
    "model.build_vocab(train_corpus)\n",
    "model.train(train_corpus, total_examples=model.corpus_count, epochs=model.epochs)"
   ]
  },
  {
   "cell_type": "code",
   "execution_count": 5,
   "metadata": {},
   "outputs": [],
   "source": [
    "model.save('revie2vec')\n"
   ]
  },
  {
   "cell_type": "code",
   "execution_count": 6,
   "metadata": {},
   "outputs": [],
   "source": [
    "test_data = pd.read_table('ratings_test.txt')\n"
   ]
  },
  {
   "cell_type": "code",
   "execution_count": 7,
   "metadata": {
    "tags": []
   },
   "outputs": [
    {
     "output_type": "stream",
     "name": "stdout",
     "text": "\n 테스트 정확도: 0.6667\n"
    }
   ],
   "source": [
    "test_data = pd.read_table('ratings_test.txt')\n",
    "test_data['document'].replace('', np.nan, inplace=True)\n",
    "test_data = test_data.dropna(how='any')\n",
    "\n",
    "correct = 0\n",
    "for d,test in  test_data.iterrows():\n",
    "    review_tokens = gensim.utils.simple_preprocess(test_data['document'][d])   \n",
    "    inferred_vector = model.infer_vector(review_tokens)\n",
    "    sims = model.docvecs.most_similar([inferred_vector], topn=10)\n",
    "    predict = (int(sims[0][0][0]) +  int(sims[1][0][0]) +  int(sims[2][0][0]) ) / 3.0\n",
    "    if(predict>0.5):\n",
    "        predict = 1\n",
    "    else:\n",
    "        predict = 0\n",
    "    if test_data['label'][d] == predict:\n",
    "        correct = correct + 1\n",
    "\n",
    "print(\"\\n 테스트 정확도: %.4f\" % (correct / len(test_data)))\n"
   ]
  }
 ],
 "metadata": {
  "language_info": {
   "codemirror_mode": {
    "name": "ipython",
    "version": 3
   },
   "file_extension": ".py",
   "mimetype": "text/x-python",
   "name": "python",
   "nbconvert_exporter": "python",
   "pygments_lexer": "ipython3",
   "version": "3.7.7-final"
  },
  "orig_nbformat": 2,
  "kernelspec": {
   "name": "python37764bitcdf7bd633ba94d1aa92e033e46ea72ab",
   "display_name": "Python 3.7.7 64-bit"
  }
 },
 "nbformat": 4,
 "nbformat_minor": 2
}